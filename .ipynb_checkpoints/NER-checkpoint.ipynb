{
 "cells": [
  {
   "cell_type": "code",
   "execution_count": null,
   "id": "c8099ac3",
   "metadata": {},
   "outputs": [],
   "source": [
    "text = 'What weather in Moscow tomorrow?'"
   ]
  },
  {
   "cell_type": "code",
   "execution_count": null,
   "id": "db2f5b2b",
   "metadata": {},
   "outputs": [],
   "source": [
    "splited = text.split()\n",
    "splited"
   ]
  },
  {
   "cell_type": "code",
   "execution_count": null,
   "id": "5d84e57d",
   "metadata": {},
   "outputs": [],
   "source": [
    "text2 = 'Set up me reminder tomorrow for 3 PM to notificate Mike to send me the SAP offer.'"
   ]
  },
  {
   "cell_type": "code",
   "execution_count": null,
   "id": "13ea9083",
   "metadata": {},
   "outputs": [],
   "source": [
    "import nltk\n",
    "nltk.download('punkt')\n",
    "nltk.download('averaged_perceptron_tagger')\n",
    "nltk.download('maxent_ne_chunker')\n",
    "nltk.download('words')"
   ]
  },
  {
   "cell_type": "code",
   "execution_count": null,
   "id": "23dc6f41",
   "metadata": {},
   "outputs": [],
   "source": [
    "for sentence in nltk.sent_tokenize(text2):\n",
    "    for chunk in nltk.ne_chunk(nltk.pos_tag(nltk.word_tokenize(sentence))):\n",
    "        print(chunk)"
   ]
  },
  {
   "cell_type": "code",
   "execution_count": null,
   "id": "77905635",
   "metadata": {},
   "outputs": [],
   "source": [
    "from nltk.tag.stanford import StanfordNERTagger\n",
    "jar = 'stanford-corenlp-4.2.2/stanford-ner-4.2.2.jar'\n",
    "model = 'stanford-ner-2015-04-20/classifiers/'"
   ]
  },
  {
   "cell_type": "code",
   "execution_count": null,
   "id": "976bb00a",
   "metadata": {},
   "outputs": [],
   "source": [
    "StanfordNERTagger(model + 'english.all.3class.distsim.crf.ser.gz', jar, encoding='utf8')"
   ]
  },
  {
   "cell_type": "code",
   "execution_count": null,
   "id": "05909c0e",
   "metadata": {},
   "outputs": [],
   "source": [
    "import spacy"
   ]
  },
  {
   "cell_type": "code",
   "execution_count": null,
   "id": "13e34087",
   "metadata": {},
   "outputs": [],
   "source": [
    "model = spacy.load('en_core_web_lg')"
   ]
  },
  {
   "cell_type": "code",
   "execution_count": null,
   "id": "e0b6131a",
   "metadata": {},
   "outputs": [],
   "source": [
    "for ent in model(text2).ents:\n",
    "    print(ent, ent.label_)"
   ]
  },
  {
   "cell_type": "markdown",
   "id": "7d175f3f",
   "metadata": {},
   "source": [
    "# BIO\n",
    "\n",
    "* B - Beggining\n",
    "* I - Inner\n",
    "* O - Object\n",
    "* S - Single\n",
    "* E - Ending"
   ]
  },
  {
   "cell_type": "code",
   "execution_count": null,
   "id": "9568ccc5",
   "metadata": {},
   "outputs": [],
   "source": [
    "text"
   ]
  },
  {
   "cell_type": "code",
   "execution_count": 1,
   "id": "ce449e98",
   "metadata": {},
   "outputs": [],
   "source": [
    "train_data = [\n",
    "    [0, 'Set', 'O'],\n",
    "    [0, 'up', 'O'],\n",
    "    [0, 'me', 'O'],\n",
    "    [0, 'reminder', 'O'],\n",
    "    [0, 'tomorrow', 'B-DATE'],\n",
    "    [0, 'for', 'O'],\n",
    "    [0, '3', 'B-TIME'],\n",
    "    [0, 'PM', 'I-TIME'],\n",
    "    [0, 'to', 'O'],\n",
    "    [0, 'notificate', 'O'],\n",
    "    [0, 'Mike', 'B-NAME'],\n",
    "    [0, 'to', 'B-SUBJECT'],\n",
    "    [0, 'send', 'I-SUBJECT'],\n",
    "    [0, 'me', 'I-SUBJECT'],\n",
    "    [0, 'the', 'I-SUBJECT'],\n",
    "    [0, 'SAP', 'I-SUBJECT'],\n",
    "    [0, 'offer', 'I-SUBJECT'],\n",
    "    [1, 'What', 'O'],\n",
    "    [1, 'weather', 'O'],\n",
    "    [1, 'in', 'O'],\n",
    "    [1, 'Moscow', 'B-LOCATION'],\n",
    "    [1, 'tomorrow', 'B-DATE']\n",
    "]"
   ]
  },
  {
   "cell_type": "code",
   "execution_count": 2,
   "id": "2037bfba",
   "metadata": {},
   "outputs": [],
   "source": [
    "from simpletransformers.ner import NERModel\n",
    "import pandas as pd"
   ]
  },
  {
   "cell_type": "code",
   "execution_count": 3,
   "id": "60723011",
   "metadata": {},
   "outputs": [
    {
     "data": {
      "text/html": [
       "<div>\n",
       "<style scoped>\n",
       "    .dataframe tbody tr th:only-of-type {\n",
       "        vertical-align: middle;\n",
       "    }\n",
       "\n",
       "    .dataframe tbody tr th {\n",
       "        vertical-align: top;\n",
       "    }\n",
       "\n",
       "    .dataframe thead th {\n",
       "        text-align: right;\n",
       "    }\n",
       "</style>\n",
       "<table border=\"1\" class=\"dataframe\">\n",
       "  <thead>\n",
       "    <tr style=\"text-align: right;\">\n",
       "      <th></th>\n",
       "      <th>sentence_id</th>\n",
       "      <th>words</th>\n",
       "      <th>labels</th>\n",
       "    </tr>\n",
       "  </thead>\n",
       "  <tbody>\n",
       "    <tr>\n",
       "      <th>0</th>\n",
       "      <td>0</td>\n",
       "      <td>Set</td>\n",
       "      <td>O</td>\n",
       "    </tr>\n",
       "    <tr>\n",
       "      <th>1</th>\n",
       "      <td>0</td>\n",
       "      <td>up</td>\n",
       "      <td>O</td>\n",
       "    </tr>\n",
       "    <tr>\n",
       "      <th>2</th>\n",
       "      <td>0</td>\n",
       "      <td>me</td>\n",
       "      <td>O</td>\n",
       "    </tr>\n",
       "    <tr>\n",
       "      <th>3</th>\n",
       "      <td>0</td>\n",
       "      <td>reminder</td>\n",
       "      <td>O</td>\n",
       "    </tr>\n",
       "    <tr>\n",
       "      <th>4</th>\n",
       "      <td>0</td>\n",
       "      <td>tomorrow</td>\n",
       "      <td>B-DATE</td>\n",
       "    </tr>\n",
       "    <tr>\n",
       "      <th>5</th>\n",
       "      <td>0</td>\n",
       "      <td>for</td>\n",
       "      <td>O</td>\n",
       "    </tr>\n",
       "    <tr>\n",
       "      <th>6</th>\n",
       "      <td>0</td>\n",
       "      <td>3</td>\n",
       "      <td>B-TIME</td>\n",
       "    </tr>\n",
       "    <tr>\n",
       "      <th>7</th>\n",
       "      <td>0</td>\n",
       "      <td>PM</td>\n",
       "      <td>I-TIME</td>\n",
       "    </tr>\n",
       "    <tr>\n",
       "      <th>8</th>\n",
       "      <td>0</td>\n",
       "      <td>to</td>\n",
       "      <td>O</td>\n",
       "    </tr>\n",
       "    <tr>\n",
       "      <th>9</th>\n",
       "      <td>0</td>\n",
       "      <td>notificate</td>\n",
       "      <td>O</td>\n",
       "    </tr>\n",
       "    <tr>\n",
       "      <th>10</th>\n",
       "      <td>0</td>\n",
       "      <td>Mike</td>\n",
       "      <td>B-NAME</td>\n",
       "    </tr>\n",
       "    <tr>\n",
       "      <th>11</th>\n",
       "      <td>0</td>\n",
       "      <td>to</td>\n",
       "      <td>B-SUBJECT</td>\n",
       "    </tr>\n",
       "    <tr>\n",
       "      <th>12</th>\n",
       "      <td>0</td>\n",
       "      <td>send</td>\n",
       "      <td>I-SUBJECT</td>\n",
       "    </tr>\n",
       "    <tr>\n",
       "      <th>13</th>\n",
       "      <td>0</td>\n",
       "      <td>me</td>\n",
       "      <td>I-SUBJECT</td>\n",
       "    </tr>\n",
       "    <tr>\n",
       "      <th>14</th>\n",
       "      <td>0</td>\n",
       "      <td>the</td>\n",
       "      <td>I-SUBJECT</td>\n",
       "    </tr>\n",
       "    <tr>\n",
       "      <th>15</th>\n",
       "      <td>0</td>\n",
       "      <td>SAP</td>\n",
       "      <td>I-SUBJECT</td>\n",
       "    </tr>\n",
       "    <tr>\n",
       "      <th>16</th>\n",
       "      <td>0</td>\n",
       "      <td>offer</td>\n",
       "      <td>I-SUBJECT</td>\n",
       "    </tr>\n",
       "    <tr>\n",
       "      <th>17</th>\n",
       "      <td>1</td>\n",
       "      <td>What</td>\n",
       "      <td>O</td>\n",
       "    </tr>\n",
       "    <tr>\n",
       "      <th>18</th>\n",
       "      <td>1</td>\n",
       "      <td>weather</td>\n",
       "      <td>O</td>\n",
       "    </tr>\n",
       "    <tr>\n",
       "      <th>19</th>\n",
       "      <td>1</td>\n",
       "      <td>in</td>\n",
       "      <td>O</td>\n",
       "    </tr>\n",
       "    <tr>\n",
       "      <th>20</th>\n",
       "      <td>1</td>\n",
       "      <td>Moscow</td>\n",
       "      <td>B-LOCATION</td>\n",
       "    </tr>\n",
       "    <tr>\n",
       "      <th>21</th>\n",
       "      <td>1</td>\n",
       "      <td>tomorrow</td>\n",
       "      <td>B-DATE</td>\n",
       "    </tr>\n",
       "  </tbody>\n",
       "</table>\n",
       "</div>"
      ],
      "text/plain": [
       "    sentence_id       words      labels\n",
       "0             0         Set           O\n",
       "1             0          up           O\n",
       "2             0          me           O\n",
       "3             0    reminder           O\n",
       "4             0    tomorrow      B-DATE\n",
       "5             0         for           O\n",
       "6             0           3      B-TIME\n",
       "7             0          PM      I-TIME\n",
       "8             0          to           O\n",
       "9             0  notificate           O\n",
       "10            0        Mike      B-NAME\n",
       "11            0          to   B-SUBJECT\n",
       "12            0        send   I-SUBJECT\n",
       "13            0          me   I-SUBJECT\n",
       "14            0         the   I-SUBJECT\n",
       "15            0         SAP   I-SUBJECT\n",
       "16            0       offer   I-SUBJECT\n",
       "17            1        What           O\n",
       "18            1     weather           O\n",
       "19            1          in           O\n",
       "20            1      Moscow  B-LOCATION\n",
       "21            1    tomorrow      B-DATE"
      ]
     },
     "execution_count": 3,
     "metadata": {},
     "output_type": "execute_result"
    }
   ],
   "source": [
    "df = pd.DataFrame(train_data, columns=['sentence_id', 'words', 'labels'])\n",
    "df"
   ]
  },
  {
   "cell_type": "code",
   "execution_count": 4,
   "id": "6152c792",
   "metadata": {},
   "outputs": [],
   "source": [
    "labels = ['B-DATE', 'I-DATE', 'B-TIME', 'I-TIME', 'B-SUBJECT', 'I-SUBJECT', 'B-LOCATION', 'I-LOCATION', 'B-NAME', 'I-NAME', 'O']"
   ]
  },
  {
   "cell_type": "code",
   "execution_count": 12,
   "id": "36823392",
   "metadata": {},
   "outputs": [
    {
     "name": "stderr",
     "output_type": "stream",
     "text": [
      "Some weights of the model checkpoint at distilbert-base-cased were not used when initializing DistilBertForTokenClassification: ['vocab_transform.weight', 'vocab_transform.bias', 'vocab_layer_norm.weight', 'vocab_layer_norm.bias', 'vocab_projector.weight', 'vocab_projector.bias']\n",
      "- This IS expected if you are initializing DistilBertForTokenClassification from the checkpoint of a model trained on another task or with another architecture (e.g. initializing a BertForSequenceClassification model from a BertForPreTraining model).\n",
      "- This IS NOT expected if you are initializing DistilBertForTokenClassification from the checkpoint of a model that you expect to be exactly identical (initializing a BertForSequenceClassification model from a BertForSequenceClassification model).\n",
      "Some weights of DistilBertForTokenClassification were not initialized from the model checkpoint at distilbert-base-cased and are newly initialized: ['classifier.weight', 'classifier.bias']\n",
      "You should probably TRAIN this model on a down-stream task to be able to use it for predictions and inference.\n"
     ]
    }
   ],
   "source": [
    "model = NERModel('distilbert', 'distilbert-base-cased', labels=labels, use_cuda=False, args={'num_train_epochs': 10, 'max_seq_length': 32, \"overwrite_output_dir\": True})"
   ]
  },
  {
   "cell_type": "code",
   "execution_count": 13,
   "id": "270303be",
   "metadata": {},
   "outputs": [
    {
     "data": {
      "application/vnd.jupyter.widget-view+json": {
       "model_id": "7cfa0e1e55294ee7a66c796889b7e75c",
       "version_major": 2,
       "version_minor": 0
      },
      "text/plain": [
       "  0%|          | 0/2 [00:00<?, ?it/s]"
      ]
     },
     "metadata": {},
     "output_type": "display_data"
    },
    {
     "data": {
      "application/vnd.jupyter.widget-view+json": {
       "model_id": "c5a9841cc1a4435d855b643ecebbd43f",
       "version_major": 2,
       "version_minor": 0
      },
      "text/plain": [
       "Epoch:   0%|          | 0/10 [00:00<?, ?it/s]"
      ]
     },
     "metadata": {},
     "output_type": "display_data"
    },
    {
     "data": {
      "application/vnd.jupyter.widget-view+json": {
       "model_id": "6040e2971bc847379819de206f0827fc",
       "version_major": 2,
       "version_minor": 0
      },
      "text/plain": [
       "Running Epoch 0 of 10:   0%|          | 0/1 [00:00<?, ?it/s]"
      ]
     },
     "metadata": {},
     "output_type": "display_data"
    },
    {
     "data": {
      "application/vnd.jupyter.widget-view+json": {
       "model_id": "738b2be2b1d347819914f5232fd730c1",
       "version_major": 2,
       "version_minor": 0
      },
      "text/plain": [
       "Running Epoch 1 of 10:   0%|          | 0/1 [00:00<?, ?it/s]"
      ]
     },
     "metadata": {},
     "output_type": "display_data"
    },
    {
     "data": {
      "application/vnd.jupyter.widget-view+json": {
       "model_id": "25d54a3c9d83493a9219f93b9b570294",
       "version_major": 2,
       "version_minor": 0
      },
      "text/plain": [
       "Running Epoch 2 of 10:   0%|          | 0/1 [00:00<?, ?it/s]"
      ]
     },
     "metadata": {},
     "output_type": "display_data"
    },
    {
     "data": {
      "application/vnd.jupyter.widget-view+json": {
       "model_id": "7b4da39dc2134df8b00782e253c921fa",
       "version_major": 2,
       "version_minor": 0
      },
      "text/plain": [
       "Running Epoch 3 of 10:   0%|          | 0/1 [00:00<?, ?it/s]"
      ]
     },
     "metadata": {},
     "output_type": "display_data"
    },
    {
     "data": {
      "application/vnd.jupyter.widget-view+json": {
       "model_id": "9885b27640034188ab8b99c188ababe1",
       "version_major": 2,
       "version_minor": 0
      },
      "text/plain": [
       "Running Epoch 4 of 10:   0%|          | 0/1 [00:00<?, ?it/s]"
      ]
     },
     "metadata": {},
     "output_type": "display_data"
    },
    {
     "data": {
      "application/vnd.jupyter.widget-view+json": {
       "model_id": "e6ff039e7eea4b9bb06a2cae8d71595d",
       "version_major": 2,
       "version_minor": 0
      },
      "text/plain": [
       "Running Epoch 5 of 10:   0%|          | 0/1 [00:00<?, ?it/s]"
      ]
     },
     "metadata": {},
     "output_type": "display_data"
    },
    {
     "data": {
      "application/vnd.jupyter.widget-view+json": {
       "model_id": "f26d2503332746a69e5257eb3e542290",
       "version_major": 2,
       "version_minor": 0
      },
      "text/plain": [
       "Running Epoch 6 of 10:   0%|          | 0/1 [00:00<?, ?it/s]"
      ]
     },
     "metadata": {},
     "output_type": "display_data"
    },
    {
     "data": {
      "application/vnd.jupyter.widget-view+json": {
       "model_id": "22152d6fc2954e35bb15f6575fadfbde",
       "version_major": 2,
       "version_minor": 0
      },
      "text/plain": [
       "Running Epoch 7 of 10:   0%|          | 0/1 [00:00<?, ?it/s]"
      ]
     },
     "metadata": {},
     "output_type": "display_data"
    },
    {
     "data": {
      "application/vnd.jupyter.widget-view+json": {
       "model_id": "e1a8d66f36614242829d4e518776c26a",
       "version_major": 2,
       "version_minor": 0
      },
      "text/plain": [
       "Running Epoch 8 of 10:   0%|          | 0/1 [00:00<?, ?it/s]"
      ]
     },
     "metadata": {},
     "output_type": "display_data"
    },
    {
     "data": {
      "application/vnd.jupyter.widget-view+json": {
       "model_id": "eb5b162cdb064ae78e759bfec07f01e5",
       "version_major": 2,
       "version_minor": 0
      },
      "text/plain": [
       "Running Epoch 9 of 10:   0%|          | 0/1 [00:00<?, ?it/s]"
      ]
     },
     "metadata": {},
     "output_type": "display_data"
    },
    {
     "data": {
      "text/plain": [
       "(10, 1.7688555479049684)"
      ]
     },
     "execution_count": 13,
     "metadata": {},
     "output_type": "execute_result"
    }
   ],
   "source": [
    "model.train_model(df)"
   ]
  },
  {
   "cell_type": "code",
   "execution_count": 16,
   "id": "58eeb9f7",
   "metadata": {},
   "outputs": [
    {
     "data": {
      "application/vnd.jupyter.widget-view+json": {
       "model_id": "ce7a6605fc014995a8e48e7623f398b3",
       "version_major": 2,
       "version_minor": 0
      },
      "text/plain": [
       "  0%|          | 0/1 [00:00<?, ?it/s]"
      ]
     },
     "metadata": {},
     "output_type": "display_data"
    },
    {
     "data": {
      "application/vnd.jupyter.widget-view+json": {
       "model_id": "e41284b82c6f44daba79d22de3ecc223",
       "version_major": 2,
       "version_minor": 0
      },
      "text/plain": [
       "Running Prediction:   0%|          | 0/1 [00:00<?, ?it/s]"
      ]
     },
     "metadata": {},
     "output_type": "display_data"
    },
    {
     "data": {
      "text/plain": [
       "([[{'set': 'O'},\n",
       "   {'reminder': 'O'},\n",
       "   {'for': 'O'},\n",
       "   {'tomorrow': 'O'},\n",
       "   {'2': 'O'},\n",
       "   {'PM': 'O'}]],\n",
       " [[{'set': [[0.17613776,\n",
       "      -0.0026636561,\n",
       "      -0.112292364,\n",
       "      -0.08082437,\n",
       "      -0.5043872,\n",
       "      0.4826838,\n",
       "      -0.5464218,\n",
       "      -0.61667573,\n",
       "      -0.35331655,\n",
       "      -0.67909,\n",
       "      1.0943727]]},\n",
       "   {'reminder': [[-0.17917092,\n",
       "      -0.11588641,\n",
       "      -0.009994418,\n",
       "      -0.22272712,\n",
       "      -0.44819543,\n",
       "      0.38521296,\n",
       "      -0.6017003,\n",
       "      -0.6348388,\n",
       "      -0.20959066,\n",
       "      -0.6719829,\n",
       "      0.9786474]]},\n",
       "   {'for': [[-0.0498405,\n",
       "      -0.34396106,\n",
       "      -0.22329655,\n",
       "      -0.31238598,\n",
       "      -0.57636935,\n",
       "      0.6426329,\n",
       "      -0.42249873,\n",
       "      -1.0579671,\n",
       "      -0.3392489,\n",
       "      -0.40722942,\n",
       "      1.587493]]},\n",
       "   {'tomorrow': [[0.20094799,\n",
       "      -0.32164606,\n",
       "      -0.17683563,\n",
       "      -0.013622844,\n",
       "      -0.3624679,\n",
       "      0.48391473,\n",
       "      -0.37289488,\n",
       "      -0.98924613,\n",
       "      -0.4432942,\n",
       "      -0.56507266,\n",
       "      1.0282866]]},\n",
       "   {'2': [[-0.024425682,\n",
       "      -0.10591079,\n",
       "      0.19584349,\n",
       "      -0.07185199,\n",
       "      -0.3956919,\n",
       "      0.63076234,\n",
       "      -0.45253015,\n",
       "      -0.43583176,\n",
       "      -0.4283457,\n",
       "      -0.60131776,\n",
       "      1.0946504]]},\n",
       "   {'PM': [[0.13492598,\n",
       "      -0.17066872,\n",
       "      -0.20863989,\n",
       "      0.3201651,\n",
       "      -0.4166837,\n",
       "      0.37978396,\n",
       "      -0.3961437,\n",
       "      -0.30738208,\n",
       "      -0.41270137,\n",
       "      -0.8046839,\n",
       "      0.6399505]]}]])"
      ]
     },
     "execution_count": 16,
     "metadata": {},
     "output_type": "execute_result"
    }
   ],
   "source": [
    "model.predict(['set reminder for tomorrow 2 PM'])"
   ]
  },
  {
   "cell_type": "code",
   "execution_count": null,
   "id": "642799d8",
   "metadata": {},
   "outputs": [],
   "source": []
  }
 ],
 "metadata": {
  "kernelspec": {
   "display_name": "Python 3",
   "language": "python",
   "name": "python3"
  },
  "language_info": {
   "codemirror_mode": {
    "name": "ipython",
    "version": 3
   },
   "file_extension": ".py",
   "mimetype": "text/x-python",
   "name": "python",
   "nbconvert_exporter": "python",
   "pygments_lexer": "ipython3",
   "version": "3.9.5"
  }
 },
 "nbformat": 4,
 "nbformat_minor": 5
}
